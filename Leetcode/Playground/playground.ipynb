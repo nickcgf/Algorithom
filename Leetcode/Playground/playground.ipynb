{
 "cells": [
  {
   "cell_type": "code",
   "execution_count": 2,
   "id": "1b5e58c3",
   "metadata": {
    "ExecuteTime": {
     "end_time": "2025-06-05T03:50:33.044483Z",
     "start_time": "2025-06-05T03:50:33.036717Z"
    }
   },
   "outputs": [
    {
     "name": "stdout",
     "output_type": "stream",
     "text": [
      "4\n"
     ]
    },
    {
     "data": {
      "text/plain": [
       "'e'"
      ]
     },
     "execution_count": 2,
     "metadata": {},
     "output_type": "execute_result"
    }
   ],
   "source": [
    "from collections import defaultdict\n",
    "from typing import *\n",
    "from heapq import *\n",
    "class Solution:\n",
    "    def clearStars(self, s: str) -> str:\n",
    "        c = defaultdict(int)\n",
    "        h = [[] for _ in range(26)]\n",
    "        availiable = [True] * len(s)\n",
    "        \n",
    "        for idx, c in enumerate(s):\n",
    "            if c != \"*\":\n",
    "                o = ord(c) - ord(\"a\")\n",
    "                h[o].append(idx)\n",
    "            else:\n",
    "                for i in range(26):\n",
    "                    if h[i]:\n",
    "                        availiable[h[i].pop()] = False\n",
    "                        break\n",
    "        # print(h)\n",
    "        print(o)\n",
    "        ans = \"\"\n",
    "        for i in range(len(s)):\n",
    "            if s[i] != \"*\" and availiable[i]:\n",
    "                ans += s[i]\n",
    "        return ans\n",
    "    \n",
    "s = Solution()\n",
    "s.clearStars(\"de*\")"
   ]
  }
 ],
 "metadata": {
  "kernelspec": {
   "display_name": "Python 3",
   "language": "python",
   "name": "python3"
  },
  "language_info": {
   "codemirror_mode": {
    "name": "ipython",
    "version": 3
   },
   "file_extension": ".py",
   "mimetype": "text/x-python",
   "name": "python",
   "nbconvert_exporter": "python",
   "pygments_lexer": "ipython3",
   "version": "3.9.6"
  }
 },
 "nbformat": 4,
 "nbformat_minor": 5
}
